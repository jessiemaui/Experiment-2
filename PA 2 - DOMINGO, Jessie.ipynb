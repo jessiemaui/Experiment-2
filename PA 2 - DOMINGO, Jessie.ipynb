{
 "cells": [
  {
   "cell_type": "code",
   "execution_count": 16,
   "id": "83300c4e-dc87-488a-b67e-a60b16fe665e",
   "metadata": {},
   "outputs": [
    {
     "name": "stdout",
     "output_type": "stream",
     "text": [
      "[[0.25410321 0.13840081 0.62450594 0.34041826 0.72367044]\n",
      " [0.11715589 0.5483353  0.56923695 0.61447249 0.84205148]\n",
      " [0.84131915 0.69864619 0.94135864 0.48760745 0.75616875]\n",
      " [0.10692745 0.81176861 0.69942624 0.09046091 0.55533871]\n",
      " [0.9005241  0.12914661 0.85073979 0.69703331 0.32959194]]\n",
      "Original Matrix X:\n",
      "[[0.25410321 0.13840081 0.62450594 0.34041826 0.72367044]\n",
      " [0.11715589 0.5483353  0.56923695 0.61447249 0.84205148]\n",
      " [0.84131915 0.69864619 0.94135864 0.48760745 0.75616875]\n",
      " [0.10692745 0.81176861 0.69942624 0.09046091 0.55533871]\n",
      " [0.9005241  0.12914661 0.85073979 0.69703331 0.32959194]]\n",
      "\n",
      "Loaded Matrix X from matrix_X.npy:\n",
      "[[0.25410321 0.13840081 0.62450594 0.34041826 0.72367044]\n",
      " [0.11715589 0.5483353  0.56923695 0.61447249 0.84205148]\n",
      " [0.84131915 0.69864619 0.94135864 0.48760745 0.75616875]\n",
      " [0.10692745 0.81176861 0.69942624 0.09046091 0.55533871]\n",
      " [0.9005241  0.12914661 0.85073979 0.69703331 0.32959194]]\n"
     ]
    }
   ],
   "source": [
    "import numpy\n",
    "\n",
    "X = numpy.random.rand(5,5)\n",
    "Z = (X -numpy.mean(X)) / numpy.std(X)\n",
    "print(X)\n",
    "\n",
    "numpy.save('X_normalized.npy', X)\n",
    "print(\"X_normalized.npy:\")\n",
    "print(X)\n",
    "\n",
    "loaded_X = numpy.load('X_normalized.npy')\n",
    "print(\"\\nLoaded :\")\n",
    "print(loaded_X)"
   ]
  },
  {
   "cell_type": "code",
   "execution_count": 24,
   "id": "a6c2022e-e0d3-4f6f-a9b5-86342785a454",
   "metadata": {},
   "outputs": [
    {
     "name": "stdout",
     "output_type": "stream",
     "text": [
      "[[    1     4     9    16    25    36    49    64    81   100]\n",
      " [  121   144   169   196   225   256   289   324   361   400]\n",
      " [  441   484   529   576   625   676   729   784   841   900]\n",
      " [  961  1024  1089  1156  1225  1296  1369  1444  1521  1600]\n",
      " [ 1681  1764  1849  1936  2025  2116  2209  2304  2401  2500]\n",
      " [ 2601  2704  2809  2916  3025  3136  3249  3364  3481  3600]\n",
      " [ 3721  3844  3969  4096  4225  4356  4489  4624  4761  4900]\n",
      " [ 5041  5184  5329  5476  5625  5776  5929  6084  6241  6400]\n",
      " [ 6561  6724  6889  7056  7225  7396  7569  7744  7921  8100]\n",
      " [ 8281  8464  8649  8836  9025  9216  9409  9604  9801 10000]]\n",
      "\n",
      "These are the following elements that are divisible by 3 \n",
      " [[   9   36   81  144  225  324  441  576  729  900 1089]\n",
      " [1296 1521 1764 2025 2304 2601 2916 3249 3600 3969 4356]\n",
      " [4761 5184 5625 6084 6561 7056 7569 8100 8649 9216 9801]]\n",
      "\n",
      "Loaded data from div_by_3.npy:\n",
      "[[   9   36   81  144  225  324  441  576  729  900 1089]\n",
      " [1296 1521 1764 2025 2304 2601 2916 3249 3600 3969 4356]\n",
      " [4761 5184 5625 6084 6561 7056 7569 8100 8649 9216 9801]]\n"
     ]
    }
   ],
   "source": [
    "import numpy\n",
    "\n",
    "A = numpy.arange(1,101) ** 2\n",
    "A = A.reshape(10,10)\n",
    "print(A)\n",
    "\n",
    "div_by_3 = A[A % 3 == 0]\n",
    "div_by_3 = div_by_3.reshape(3,11)\n",
    "\n",
    "print(\"\\nThese are the following elements that are divisible by 3 \\n\" , div_by_3)\n",
    "\n",
    "numpy.save('div_by_3.npy', div_by_3)\n",
    "loaded_div_by_3 = numpy.load('div_by_3.npy')\n",
    "print(\"\\nLoaded data from div_by_3.npy:\")\n",
    "print(loaded_div_by_3)"
   ]
  },
  {
   "cell_type": "code",
   "execution_count": null,
   "id": "aa046aa8-2869-40b9-a46d-e55a1241eea3",
   "metadata": {},
   "outputs": [],
   "source": []
  }
 ],
 "metadata": {
  "kernelspec": {
   "display_name": "Python 3 (ipykernel)",
   "language": "python",
   "name": "python3"
  },
  "language_info": {
   "codemirror_mode": {
    "name": "ipython",
    "version": 3
   },
   "file_extension": ".py",
   "mimetype": "text/x-python",
   "name": "python",
   "nbconvert_exporter": "python",
   "pygments_lexer": "ipython3",
   "version": "3.12.4"
  }
 },
 "nbformat": 4,
 "nbformat_minor": 5
}
